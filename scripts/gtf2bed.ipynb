{
 "cells": [
  {
   "cell_type": "code",
   "execution_count": 1,
   "id": "40fa1e10-106b-42ca-baf3-365ced8c6289",
   "metadata": {
    "tags": []
   },
   "outputs": [],
   "source": [
    "import pandas as pd"
   ]
  },
  {
   "cell_type": "code",
   "execution_count": 4,
   "id": "12331089-3312-4207-891d-9da159891528",
   "metadata": {
    "tags": []
   },
   "outputs": [
    {
     "name": "stderr",
     "output_type": "stream",
     "text": [
      "C:\\Users\\User1\\AppData\\Local\\Temp\\ipykernel_43280\\3906027834.py:1: DtypeWarning: Columns (8) have mixed types. Specify dtype option on import or set low_memory=False.\n",
      "  data = pd.read_csv('gencode.v44.annotation.csv')\n"
     ]
    }
   ],
   "source": [
    "data = pd.read_csv('gencode.v44.annotation.csv')"
   ]
  },
  {
   "cell_type": "code",
   "execution_count": 5,
   "id": "55121a2f-fe2b-4399-918c-7343072c1d8e",
   "metadata": {
    "tags": []
   },
   "outputs": [
    {
     "name": "stderr",
     "output_type": "stream",
     "text": [
      "C:\\Users\\User1\\AppData\\Local\\Temp\\ipykernel_43280\\1434104182.py:3: SettingWithCopyWarning: \n",
      "A value is trying to be set on a copy of a slice from a DataFrame.\n",
      "Try using .loc[row_indexer,col_indexer] = value instead\n",
      "\n",
      "See the caveats in the documentation: https://pandas.pydata.org/pandas-docs/stable/user_guide/indexing.html#returning-a-view-versus-a-copy\n",
      "  exons['start'] -= 1\n"
     ]
    }
   ],
   "source": [
    "exons = data[data.feature.isin(['exon']) & data.gene_type.isin(['protein_coding'])] \n",
    "# substracting one from start \n",
    "exons['start'] -= 1\n"
   ]
  },
  {
   "cell_type": "code",
   "execution_count": 6,
   "id": "1dbd35dc-390a-4c60-9618-b303df724835",
   "metadata": {
    "tags": []
   },
   "outputs": [
    {
     "data": {
      "text/plain": [
       "Index(['seqname', 'source', 'feature', 'start', 'end', 'score', 'strand',\n",
       "       'frame', 'artif_dupl', 'ccdsid', 'exon_id', 'exon_number', 'gene_id',\n",
       "       'gene_name', 'gene_type', 'havana_gene', 'havana_transcript', 'hgnc_id',\n",
       "       'level', 'ont:PGO:0000004', 'ont:PGO:0000005', 'ont:PGO:0000006',\n",
       "       'ont:PGO:0000019', 'ont:PGO:0000025', 'protein_id',\n",
       "       'tag:3_nested_supported_extension',\n",
       "       'tag:3_standard_supported_extension', 'tag:454_RNA_Seq_supported',\n",
       "       'tag:5_nested_supported_extension',\n",
       "       'tag:5_standard_supported_extension', 'tag:CAGE_supported_TSS',\n",
       "       'tag:CCDS', 'tag:Ensembl_canonical', 'tag:MANE_Plus_Clinical',\n",
       "       'tag:MANE_Select', 'tag:NAGNAG_splice_site', 'tag:NMD_exception',\n",
       "       'tag:NMD_likely_if_extended', 'tag:RNA_Seq_supported_only',\n",
       "       'tag:RNA_Seq_supported_partial', 'tag:RP_supported_TIS', 'tag:TAGENE',\n",
       "       'tag:alternative_3_UTR', 'tag:alternative_5_UTR',\n",
       "       'tag:appris_alternative_1', 'tag:appris_alternative_2',\n",
       "       'tag:appris_principal_1', 'tag:appris_principal_2',\n",
       "       'tag:appris_principal_3', 'tag:appris_principal_4',\n",
       "       'tag:appris_principal_5', 'tag:artifactual_duplication', 'tag:basic',\n",
       "       'tag:bicistronic', 'tag:cds_end_NF', 'tag:cds_start_NF',\n",
       "       'tag:dotter_confirmed', 'tag:downstream_ATG', 'tag:exp_conf',\n",
       "       'tag:fragmented_locus', 'tag:inferred_exon_combination',\n",
       "       'tag:inferred_transcript_model', 'tag:low_sequence_quality',\n",
       "       'tag:mRNA_end_NF', 'tag:mRNA_start_NF', 'tag:ncRNA_host',\n",
       "       'tag:nested_454_RNA_Seq_supported', 'tag:non_ATG_start',\n",
       "       'tag:non_canonical_TEC', 'tag:non_canonical_U12',\n",
       "       'tag:non_canonical_conserved',\n",
       "       'tag:non_canonical_genome_sequence_error', 'tag:non_canonical_other',\n",
       "       'tag:non_canonical_polymorphism', 'tag:non_submitted_evidence',\n",
       "       'tag:not_best_in_genome_evidence', 'tag:not_organism_supported',\n",
       "       'tag:overlapping_locus', 'tag:overlapping_uORF',\n",
       "       'tag:overlaps_pseudogene', 'tag:pseudo_consens', 'tag:readthrough_gene',\n",
       "       'tag:readthrough_transcript', 'tag:reference_genome_error',\n",
       "       'tag:retained_intron_CDS', 'tag:retained_intron_final',\n",
       "       'tag:retained_intron_first', 'tag:retrogene', 'tag:seleno',\n",
       "       'tag:semi_processed', 'tag:sequence_error',\n",
       "       'tag:stop_codon_readthrough', 'tag:upstream_ATG', 'tag:upstream_uORF',\n",
       "       'transcript_id', 'transcript_name', 'transcript_support_level',\n",
       "       'transcript_type'],\n",
       "      dtype='object')"
      ]
     },
     "execution_count": 6,
     "metadata": {},
     "output_type": "execute_result"
    }
   ],
   "source": [
    "exons.columns"
   ]
  },
  {
   "cell_type": "code",
   "execution_count": 7,
   "id": "cc3db7ed-2465-4832-9e66-47de733f17a3",
   "metadata": {
    "tags": []
   },
   "outputs": [],
   "source": [
    "# Select the ones you want\n",
    "exome = exons[['seqname','start', 'end',  'exon_id', 'exon_number','transcript_id', 'gene_id', 'gene_name', 'tag:Ensembl_canonical', 'tag:MANE_Select']]\n",
    "exome.columns = ['chr','start', 'end',  'exon_id', 'exon_number','transcript_id', 'gene_id', 'gene_name', 'Ensembl_canonical', 'MANE_Select']"
   ]
  },
  {
   "cell_type": "code",
   "execution_count": 8,
   "id": "f93163a9-d7a4-4dc7-a6ec-e18f7991cc83",
   "metadata": {
    "tags": []
   },
   "outputs": [
    {
     "data": {
      "text/html": [
       "<div>\n",
       "<style scoped>\n",
       "    .dataframe tbody tr th:only-of-type {\n",
       "        vertical-align: middle;\n",
       "    }\n",
       "\n",
       "    .dataframe tbody tr th {\n",
       "        vertical-align: top;\n",
       "    }\n",
       "\n",
       "    .dataframe thead th {\n",
       "        text-align: right;\n",
       "    }\n",
       "</style>\n",
       "<table border=\"1\" class=\"dataframe\">\n",
       "  <thead>\n",
       "    <tr style=\"text-align: right;\">\n",
       "      <th></th>\n",
       "      <th>chr</th>\n",
       "      <th>start</th>\n",
       "      <th>end</th>\n",
       "      <th>exon_id</th>\n",
       "      <th>exon_number</th>\n",
       "      <th>transcript_id</th>\n",
       "      <th>gene_id</th>\n",
       "      <th>gene_name</th>\n",
       "      <th>Ensembl_canonical</th>\n",
       "      <th>MANE_Select</th>\n",
       "    </tr>\n",
       "  </thead>\n",
       "  <tbody>\n",
       "    <tr>\n",
       "      <th>61</th>\n",
       "      <td>chr1</td>\n",
       "      <td>65418</td>\n",
       "      <td>65433</td>\n",
       "      <td>ENSE00003812156.1</td>\n",
       "      <td>1.0</td>\n",
       "      <td>ENST00000641515.2</td>\n",
       "      <td>ENSG00000186092.7</td>\n",
       "      <td>OR4F5</td>\n",
       "      <td>1.0</td>\n",
       "      <td>1.0</td>\n",
       "    </tr>\n",
       "    <tr>\n",
       "      <th>62</th>\n",
       "      <td>chr1</td>\n",
       "      <td>65519</td>\n",
       "      <td>65573</td>\n",
       "      <td>ENSE00003813641.1</td>\n",
       "      <td>2.0</td>\n",
       "      <td>ENST00000641515.2</td>\n",
       "      <td>ENSG00000186092.7</td>\n",
       "      <td>OR4F5</td>\n",
       "      <td>1.0</td>\n",
       "      <td>1.0</td>\n",
       "    </tr>\n",
       "    <tr>\n",
       "      <th>65</th>\n",
       "      <td>chr1</td>\n",
       "      <td>69036</td>\n",
       "      <td>71585</td>\n",
       "      <td>ENSE00003813949.1</td>\n",
       "      <td>3.0</td>\n",
       "      <td>ENST00000641515.2</td>\n",
       "      <td>ENSG00000186092.7</td>\n",
       "      <td>OR4F5</td>\n",
       "      <td>1.0</td>\n",
       "      <td>1.0</td>\n",
       "    </tr>\n",
       "    <tr>\n",
       "      <th>321</th>\n",
       "      <td>chr1</td>\n",
       "      <td>450739</td>\n",
       "      <td>451678</td>\n",
       "      <td>ENSE00003989331.1</td>\n",
       "      <td>1.0</td>\n",
       "      <td>ENST00000426406.4</td>\n",
       "      <td>ENSG00000284733.2</td>\n",
       "      <td>OR4F29</td>\n",
       "      <td>1.0</td>\n",
       "      <td>1.0</td>\n",
       "    </tr>\n",
       "    <tr>\n",
       "      <th>451</th>\n",
       "      <td>chr1</td>\n",
       "      <td>685715</td>\n",
       "      <td>686654</td>\n",
       "      <td>ENSE00004001351.2</td>\n",
       "      <td>1.0</td>\n",
       "      <td>ENST00000332831.5</td>\n",
       "      <td>ENSG00000284662.2</td>\n",
       "      <td>OR4F16</td>\n",
       "      <td>1.0</td>\n",
       "      <td>1.0</td>\n",
       "    </tr>\n",
       "    <tr>\n",
       "      <th>...</th>\n",
       "      <td>...</td>\n",
       "      <td>...</td>\n",
       "      <td>...</td>\n",
       "      <td>...</td>\n",
       "      <td>...</td>\n",
       "      <td>...</td>\n",
       "      <td>...</td>\n",
       "      <td>...</td>\n",
       "      <td>...</td>\n",
       "      <td>...</td>\n",
       "    </tr>\n",
       "    <tr>\n",
       "      <th>3424145</th>\n",
       "      <td>chrM</td>\n",
       "      <td>10469</td>\n",
       "      <td>10766</td>\n",
       "      <td>ENSE00001596097.1</td>\n",
       "      <td>1.0</td>\n",
       "      <td>ENST00000361335.1</td>\n",
       "      <td>ENSG00000212907.2</td>\n",
       "      <td>MT-ND4L</td>\n",
       "      <td>1.0</td>\n",
       "      <td>NaN</td>\n",
       "    </tr>\n",
       "    <tr>\n",
       "      <th>3424152</th>\n",
       "      <td>chrM</td>\n",
       "      <td>10759</td>\n",
       "      <td>12137</td>\n",
       "      <td>ENSE00001666004.2</td>\n",
       "      <td>1.0</td>\n",
       "      <td>ENST00000361381.2</td>\n",
       "      <td>ENSG00000198886.2</td>\n",
       "      <td>MT-ND4</td>\n",
       "      <td>1.0</td>\n",
       "      <td>NaN</td>\n",
       "    </tr>\n",
       "    <tr>\n",
       "      <th>3424166</th>\n",
       "      <td>chrM</td>\n",
       "      <td>12336</td>\n",
       "      <td>14148</td>\n",
       "      <td>ENSE00001435330.2</td>\n",
       "      <td>1.0</td>\n",
       "      <td>ENST00000361567.2</td>\n",
       "      <td>ENSG00000198786.2</td>\n",
       "      <td>MT-ND5</td>\n",
       "      <td>1.0</td>\n",
       "      <td>NaN</td>\n",
       "    </tr>\n",
       "    <tr>\n",
       "      <th>3424172</th>\n",
       "      <td>chrM</td>\n",
       "      <td>14148</td>\n",
       "      <td>14673</td>\n",
       "      <td>ENSE00001434974.2</td>\n",
       "      <td>1.0</td>\n",
       "      <td>ENST00000361681.2</td>\n",
       "      <td>ENSG00000198695.2</td>\n",
       "      <td>MT-ND6</td>\n",
       "      <td>1.0</td>\n",
       "      <td>NaN</td>\n",
       "    </tr>\n",
       "    <tr>\n",
       "      <th>3424180</th>\n",
       "      <td>chrM</td>\n",
       "      <td>14746</td>\n",
       "      <td>15887</td>\n",
       "      <td>ENSE00001436074.2</td>\n",
       "      <td>1.0</td>\n",
       "      <td>ENST00000361789.2</td>\n",
       "      <td>ENSG00000198727.2</td>\n",
       "      <td>MT-CYB</td>\n",
       "      <td>1.0</td>\n",
       "      <td>NaN</td>\n",
       "    </tr>\n",
       "  </tbody>\n",
       "</table>\n",
       "<p>1387506 rows × 10 columns</p>\n",
       "</div>"
      ],
      "text/plain": [
       "          chr   start     end            exon_id  exon_number  \\\n",
       "61       chr1   65418   65433  ENSE00003812156.1          1.0   \n",
       "62       chr1   65519   65573  ENSE00003813641.1          2.0   \n",
       "65       chr1   69036   71585  ENSE00003813949.1          3.0   \n",
       "321      chr1  450739  451678  ENSE00003989331.1          1.0   \n",
       "451      chr1  685715  686654  ENSE00004001351.2          1.0   \n",
       "...       ...     ...     ...                ...          ...   \n",
       "3424145  chrM   10469   10766  ENSE00001596097.1          1.0   \n",
       "3424152  chrM   10759   12137  ENSE00001666004.2          1.0   \n",
       "3424166  chrM   12336   14148  ENSE00001435330.2          1.0   \n",
       "3424172  chrM   14148   14673  ENSE00001434974.2          1.0   \n",
       "3424180  chrM   14746   15887  ENSE00001436074.2          1.0   \n",
       "\n",
       "             transcript_id            gene_id gene_name  Ensembl_canonical  \\\n",
       "61       ENST00000641515.2  ENSG00000186092.7     OR4F5                1.0   \n",
       "62       ENST00000641515.2  ENSG00000186092.7     OR4F5                1.0   \n",
       "65       ENST00000641515.2  ENSG00000186092.7     OR4F5                1.0   \n",
       "321      ENST00000426406.4  ENSG00000284733.2    OR4F29                1.0   \n",
       "451      ENST00000332831.5  ENSG00000284662.2    OR4F16                1.0   \n",
       "...                    ...                ...       ...                ...   \n",
       "3424145  ENST00000361335.1  ENSG00000212907.2   MT-ND4L                1.0   \n",
       "3424152  ENST00000361381.2  ENSG00000198886.2    MT-ND4                1.0   \n",
       "3424166  ENST00000361567.2  ENSG00000198786.2    MT-ND5                1.0   \n",
       "3424172  ENST00000361681.2  ENSG00000198695.2    MT-ND6                1.0   \n",
       "3424180  ENST00000361789.2  ENSG00000198727.2    MT-CYB                1.0   \n",
       "\n",
       "         MANE_Select  \n",
       "61               1.0  \n",
       "62               1.0  \n",
       "65               1.0  \n",
       "321              1.0  \n",
       "451              1.0  \n",
       "...              ...  \n",
       "3424145          NaN  \n",
       "3424152          NaN  \n",
       "3424166          NaN  \n",
       "3424172          NaN  \n",
       "3424180          NaN  \n",
       "\n",
       "[1387506 rows x 10 columns]"
      ]
     },
     "execution_count": 8,
     "metadata": {},
     "output_type": "execute_result"
    }
   ],
   "source": [
    "exome"
   ]
  },
  {
   "cell_type": "code",
   "execution_count": 9,
   "id": "b005bbdf-a63d-43a9-b4f3-953f600ce44e",
   "metadata": {
    "tags": []
   },
   "outputs": [
    {
     "data": {
      "text/plain": [
       "1.0    201090\n",
       "Name: MANE_Select, dtype: int64"
      ]
     },
     "execution_count": 9,
     "metadata": {},
     "output_type": "execute_result"
    }
   ],
   "source": [
    "exome['MANE_Select'].value_counts()"
   ]
  },
  {
   "cell_type": "code",
   "execution_count": 10,
   "id": "0fbfc9b8-856a-482c-a65b-6b76a99cbc94",
   "metadata": {
    "tags": []
   },
   "outputs": [
    {
     "data": {
      "text/plain": [
       "chr                        0\n",
       "start                      0\n",
       "end                        0\n",
       "exon_id                    0\n",
       "exon_number                0\n",
       "transcript_id              0\n",
       "gene_id                    0\n",
       "gene_name                  0\n",
       "Ensembl_canonical    1177295\n",
       "MANE_Select          1186416\n",
       "dtype: int64"
      ]
     },
     "execution_count": 10,
     "metadata": {},
     "output_type": "execute_result"
    }
   ],
   "source": [
    "exome.isnull().sum(axis = 0)"
   ]
  },
  {
   "cell_type": "code",
   "execution_count": 11,
   "id": "5addf6ec-e0cd-4452-a83f-c8286e73b4cc",
   "metadata": {
    "tags": []
   },
   "outputs": [],
   "source": [
    "e2 = exome[exome['Ensembl_canonical'].notnull()]"
   ]
  },
  {
   "cell_type": "code",
   "execution_count": 53,
   "id": "ca734c85-3eb8-4de5-a48a-4cf286eac1a4",
   "metadata": {
    "tags": []
   },
   "outputs": [],
   "source": [
    "e2.to_csv(\"C:/Users/User1/Documents/exome_coordinates.csv\")"
   ]
  },
  {
   "cell_type": "code",
   "execution_count": null,
   "id": "d135a71c-117f-411c-93e5-7117cd3e42ad",
   "metadata": {},
   "outputs": [],
   "source": [
    "#manually reformatted to exome_coordinates.bed"
   ]
  }
 ],
 "metadata": {
  "kernelspec": {
   "display_name": "Python 3 (ipykernel)",
   "language": "python",
   "name": "python3"
  },
  "language_info": {
   "codemirror_mode": {
    "name": "ipython",
    "version": 3
   },
   "file_extension": ".py",
   "mimetype": "text/x-python",
   "name": "python",
   "nbconvert_exporter": "python",
   "pygments_lexer": "ipython3",
   "version": "3.11.3"
  }
 },
 "nbformat": 4,
 "nbformat_minor": 5
}
